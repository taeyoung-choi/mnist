{
 "cells": [
  {
   "cell_type": "markdown",
   "metadata": {},
   "source": [
    "# Basic model:"
   ]
  },
  {
   "cell_type": "markdown",
   "metadata": {},
   "source": [
    "### For all the code in this page, we revised based on the code in the following link.\n",
    "### https://github.com/keras-team/keras/blob/master/examples/mnist_cnn.py"
   ]
  },
  {
   "cell_type": "markdown",
   "metadata": {},
   "source": [
    "### For the folowi"
   ]
  },
  {
   "cell_type": "code",
   "execution_count": 7,
   "metadata": {
    "scrolled": true
   },
   "outputs": [
    {
     "name": "stdout",
     "output_type": "stream",
     "text": [
      "Train on 54000 samples, validate on 6000 samples\n",
      "Epoch 1/15\n",
      "54000/54000 [==============================] - 274s 5ms/step - loss: 0.3634 - acc: 0.8953 - val_loss: 0.0645 - val_acc: 0.9813\n",
      "Epoch 2/15\n",
      "54000/54000 [==============================] - 273s 5ms/step - loss: 0.1151 - acc: 0.9704 - val_loss: 0.0465 - val_acc: 0.9867\n",
      "Epoch 3/15\n",
      "54000/54000 [==============================] - 274s 5ms/step - loss: 0.0838 - acc: 0.9788 - val_loss: 0.0331 - val_acc: 0.9915\n",
      "Epoch 4/15\n",
      "54000/54000 [==============================] - 290s 5ms/step - loss: 0.0663 - acc: 0.9825 - val_loss: 0.0349 - val_acc: 0.9917\n",
      "Epoch 5/15\n",
      "54000/54000 [==============================] - 313s 6ms/step - loss: 0.0567 - acc: 0.9853 - val_loss: 0.0344 - val_acc: 0.9905\n",
      "Epoch 6/15\n",
      "54000/54000 [==============================] - 310s 6ms/step - loss: 0.0503 - acc: 0.9877 - val_loss: 0.0387 - val_acc: 0.9917\n",
      "Epoch 7/15\n",
      "54000/54000 [==============================] - 305s 6ms/step - loss: 0.0432 - acc: 0.9894 - val_loss: 0.0326 - val_acc: 0.9928\n",
      "Epoch 8/15\n",
      "54000/54000 [==============================] - 307s 6ms/step - loss: 0.0394 - acc: 0.9899 - val_loss: 0.0414 - val_acc: 0.9910\n",
      "Epoch 9/15\n",
      "54000/54000 [==============================] - 305s 6ms/step - loss: 0.0376 - acc: 0.9905 - val_loss: 0.0355 - val_acc: 0.9932\n",
      "Epoch 10/15\n",
      "54000/54000 [==============================] - 306s 6ms/step - loss: 0.0312 - acc: 0.9915 - val_loss: 0.0351 - val_acc: 0.9920\n",
      "Epoch 11/15\n",
      "54000/54000 [==============================] - 306s 6ms/step - loss: 0.0290 - acc: 0.9923 - val_loss: 0.0355 - val_acc: 0.9923\n",
      "Epoch 12/15\n",
      "54000/54000 [==============================] - 298s 6ms/step - loss: 0.0288 - acc: 0.9928 - val_loss: 0.0392 - val_acc: 0.9922\n",
      "Epoch 13/15\n",
      "54000/54000 [==============================] - 275s 5ms/step - loss: 0.0279 - acc: 0.9927 - val_loss: 0.0319 - val_acc: 0.9930\n",
      "Epoch 14/15\n",
      "54000/54000 [==============================] - 276s 5ms/step - loss: 0.0236 - acc: 0.9940 - val_loss: 0.0339 - val_acc: 0.9937\n",
      "Epoch 15/15\n",
      "54000/54000 [==============================] - 300s 6ms/step - loss: 0.0236 - acc: 0.9936 - val_loss: 0.0291 - val_acc: 0.9945\n",
      "10000/10000 [==============================] - 14s 1ms/step\n",
      "Test loss: 0.0247141771234\n",
      "Test accuracy: 0.9949\n"
     ]
    }
   ],
   "source": [
    "import keras\n",
    "from keras.datasets import mnist\n",
    "from keras.models import Sequential\n",
    "from keras.layers import Dense, Dropout, Flatten, BatchNormalization\n",
    "from keras.layers import Conv2D, MaxPooling2D\n",
    "from keras import backend as K\n",
    "\n",
    "batch_size = 128 \n",
    "num_classes = 10\n",
    "epochs = 15\n",
    "\n",
    "# input image dimensions\n",
    "img_rows, img_cols = 28, 28\n",
    "\n",
    "# the data, split between train and test sets\n",
    "(x_train, y_train), (x_test, y_test) = mnist.load_data()\n",
    "\n",
    "if K.image_data_format() == 'channels_first':\n",
    "    x_train = x_train.reshape(x_train.shape[0], 1, img_rows, img_cols)\n",
    "    x_test = x_test.reshape(x_test.shape[0], 1, img_rows, img_cols)\n",
    "    input_shape = (1, img_rows, img_cols)\n",
    "else:\n",
    "    x_train = x_train.reshape(x_train.shape[0], img_rows, img_cols, 1)\n",
    "    x_test = x_test.reshape(x_test.shape[0], img_rows, img_cols, 1)\n",
    "    input_shape = (img_rows, img_cols, 1)\n",
    "\n",
    "x_train = x_train.astype('float32')\n",
    "x_test = x_test.astype('float32')\n",
    "x_train /= 255\n",
    "x_test /= 255\n",
    "print('x_train shape:', x_train.shape)\n",
    "print(x_train.shape[0], 'train samples')\n",
    "print(x_test.shape[0], 'test samples')\n",
    "\n",
    "# convert class vectors to binary class matrices\n",
    "y_train = keras.utils.to_categorical(y_train, num_classes)\n",
    "y_test = keras.utils.to_categorical(y_test, num_classes)\n",
    "\n",
    "model = Sequential()\n",
    "model.add(Conv2D(32, kernel_size=(5, 5), activation='relu', input_shape=input_shape))\n",
    "model.add(BatchNormalization())\n",
    "model.add(Conv2D(64, (5, 5), activation='relu'))\n",
    "model.add(BatchNormalization())\n",
    "model.add(Conv2D(64, (5, 5), activation='relu'))\n",
    "model.add(BatchNormalization())\n",
    "model.add(MaxPooling2D(pool_size=(3, 3)))\n",
    "model.add(Dropout(0.25))\n",
    "model.add(Flatten())\n",
    "model.add(Dense(256, activation='relu'))\n",
    "model.add(Dropout(0.5))\n",
    "model.add(Dense(256, activation='relu'))\n",
    "model.add(Dropout(0.5))\n",
    "model.add(Dense(num_classes, activation='softmax'))\n",
    "model.compile(loss=keras.losses.categorical_crossentropy, optimizer=keras.optimizers.Adadelta(), metrics=['accuracy'])\n",
    "\n",
    "model.fit(x_train, y_train, batch_size=batch_size, epochs=epochs, verbose=1, validation_split=0.1)\n",
    "score = model.evaluate(x_test, y_test, verbose=1)\n",
    "print('Test loss:', score[0])\n",
    "print('Test accuracy:', score[1])"
   ]
  },
  {
   "cell_type": "markdown",
   "metadata": {},
   "source": [
    "# Extra Credit 1: Improve the model further "
   ]
  },
  {
   "cell_type": "markdown",
   "metadata": {},
   "source": [
    "### We get the test accuracy of 0.9957"
   ]
  },
  {
   "cell_type": "code",
   "execution_count": 1,
   "metadata": {},
   "outputs": [
    {
     "name": "stderr",
     "output_type": "stream",
     "text": [
      "Using TensorFlow backend.\n"
     ]
    },
    {
     "name": "stdout",
     "output_type": "stream",
     "text": [
      "x_train shape: (60000, 28, 28, 1)\n",
      "60000 train samples\n",
      "10000 test samples\n",
      "Train on 54000 samples, validate on 6000 samples\n",
      "Epoch 1/25\n",
      "54000/54000 [==============================] - 275s 5ms/step - loss: 0.3546 - acc: 0.8969 - val_loss: 0.0545 - val_acc: 0.9850\n",
      "Epoch 2/25\n",
      "54000/54000 [==============================] - 277s 5ms/step - loss: 0.1139 - acc: 0.9697 - val_loss: 0.0407 - val_acc: 0.9887\n",
      "Epoch 3/25\n",
      "54000/54000 [==============================] - 276s 5ms/step - loss: 0.0853 - acc: 0.9779 - val_loss: 0.0399 - val_acc: 0.9895\n",
      "Epoch 4/25\n",
      "54000/54000 [==============================] - 276s 5ms/step - loss: 0.0657 - acc: 0.9830 - val_loss: 0.0399 - val_acc: 0.9902\n",
      "Epoch 5/25\n",
      "54000/54000 [==============================] - 276s 5ms/step - loss: 0.0558 - acc: 0.9856 - val_loss: 0.0311 - val_acc: 0.9923\n",
      "Epoch 6/25\n",
      "54000/54000 [==============================] - 277s 5ms/step - loss: 0.0467 - acc: 0.9877 - val_loss: 0.0331 - val_acc: 0.9912\n",
      "Epoch 7/25\n",
      "54000/54000 [==============================] - 277s 5ms/step - loss: 0.0454 - acc: 0.9890 - val_loss: 0.0282 - val_acc: 0.9925\n",
      "Epoch 8/25\n",
      "54000/54000 [==============================] - 277s 5ms/step - loss: 0.0420 - acc: 0.9895 - val_loss: 0.0373 - val_acc: 0.9915\n",
      "Epoch 9/25\n",
      "54000/54000 [==============================] - 277s 5ms/step - loss: 0.0352 - acc: 0.9907 - val_loss: 0.0391 - val_acc: 0.9927\n",
      "Epoch 10/25\n",
      "54000/54000 [==============================] - 277s 5ms/step - loss: 0.0351 - acc: 0.9911 - val_loss: 0.0291 - val_acc: 0.9940\n",
      "Epoch 11/25\n",
      "54000/54000 [==============================] - 278s 5ms/step - loss: 0.0313 - acc: 0.9916 - val_loss: 0.0392 - val_acc: 0.9937\n",
      "Epoch 12/25\n",
      "54000/54000 [==============================] - 278s 5ms/step - loss: 0.0288 - acc: 0.9924 - val_loss: 0.0321 - val_acc: 0.9955\n",
      "Epoch 13/25\n",
      "54000/54000 [==============================] - 278s 5ms/step - loss: 0.0273 - acc: 0.9934 - val_loss: 0.0377 - val_acc: 0.9942\n",
      "Epoch 14/25\n",
      "54000/54000 [==============================] - 278s 5ms/step - loss: 0.0258 - acc: 0.9934 - val_loss: 0.0349 - val_acc: 0.9938\n",
      "Epoch 15/25\n",
      "54000/54000 [==============================] - 276s 5ms/step - loss: 0.0255 - acc: 0.9935 - val_loss: 0.0316 - val_acc: 0.9937\n",
      "Epoch 16/25\n",
      "54000/54000 [==============================] - 276s 5ms/step - loss: 0.0230 - acc: 0.9940 - val_loss: 0.0303 - val_acc: 0.9940\n",
      "Epoch 17/25\n",
      "54000/54000 [==============================] - 276s 5ms/step - loss: 0.0221 - acc: 0.9940 - val_loss: 0.0417 - val_acc: 0.9937\n",
      "Epoch 18/25\n",
      "54000/54000 [==============================] - 277s 5ms/step - loss: 0.0206 - acc: 0.9949 - val_loss: 0.0325 - val_acc: 0.9947\n",
      "Epoch 19/25\n",
      "54000/54000 [==============================] - 278s 5ms/step - loss: 0.0193 - acc: 0.9953 - val_loss: 0.0305 - val_acc: 0.9943\n",
      "Epoch 20/25\n",
      "54000/54000 [==============================] - 277s 5ms/step - loss: 0.0194 - acc: 0.9950 - val_loss: 0.0350 - val_acc: 0.9948\n",
      "Epoch 21/25\n",
      "54000/54000 [==============================] - 276s 5ms/step - loss: 0.0182 - acc: 0.9954 - val_loss: 0.0380 - val_acc: 0.9942\n",
      "Epoch 22/25\n",
      "54000/54000 [==============================] - 285s 5ms/step - loss: 0.0187 - acc: 0.9953 - val_loss: 0.0367 - val_acc: 0.9932\n",
      "Epoch 23/25\n",
      "54000/54000 [==============================] - 289s 5ms/step - loss: 0.0179 - acc: 0.9955 - val_loss: 0.0304 - val_acc: 0.9947\n",
      "Epoch 24/25\n",
      "54000/54000 [==============================] - 301s 6ms/step - loss: 0.0152 - acc: 0.9961 - val_loss: 0.0366 - val_acc: 0.9937\n",
      "Epoch 25/25\n",
      "54000/54000 [==============================] - 330s 6ms/step - loss: 0.0152 - acc: 0.9965 - val_loss: 0.0345 - val_acc: 0.9937\n",
      "10000/10000 [==============================] - 20s 2ms/step\n",
      "Test loss: 0.0261895559608\n",
      "Test accuracy: 0.9957\n"
     ]
    }
   ],
   "source": [
    "import keras\n",
    "from keras.datasets import mnist\n",
    "from keras.models import Sequential\n",
    "from keras.layers import Dense, Dropout, Flatten, BatchNormalization\n",
    "from keras.layers import Conv2D, MaxPooling2D\n",
    "from keras import backend as K\n",
    "\n",
    "batch_size = 128 \n",
    "num_classes = 10\n",
    "epochs = 25\n",
    "\n",
    "# input image dimensions\n",
    "img_rows, img_cols = 28, 28\n",
    "\n",
    "# the data, split between train and test sets\n",
    "(x_train, y_train), (x_test, y_test) = mnist.load_data()\n",
    "\n",
    "if K.image_data_format() == 'channels_first':\n",
    "    x_train = x_train.reshape(x_train.shape[0], 1, img_rows, img_cols)\n",
    "    x_test = x_test.reshape(x_test.shape[0], 1, img_rows, img_cols)\n",
    "    input_shape = (1, img_rows, img_cols)\n",
    "else:\n",
    "    x_train = x_train.reshape(x_train.shape[0], img_rows, img_cols, 1)\n",
    "    x_test = x_test.reshape(x_test.shape[0], img_rows, img_cols, 1)\n",
    "    input_shape = (img_rows, img_cols, 1)\n",
    "\n",
    "x_train = x_train.astype('float32')\n",
    "x_test = x_test.astype('float32')\n",
    "x_train /= 255\n",
    "x_test /= 255\n",
    "print('x_train shape:', x_train.shape)\n",
    "print(x_train.shape[0], 'train samples')\n",
    "print(x_test.shape[0], 'test samples')\n",
    "\n",
    "# convert class vectors to binary class matrices\n",
    "y_train = keras.utils.to_categorical(y_train, num_classes)\n",
    "y_test = keras.utils.to_categorical(y_test, num_classes)\n",
    "\n",
    "model = Sequential()\n",
    "model.add(Conv2D(32, kernel_size=(5, 5), activation='relu', input_shape=input_shape))\n",
    "model.add(BatchNormalization())\n",
    "model.add(Conv2D(64, (5, 5), activation='relu'))\n",
    "model.add(BatchNormalization())\n",
    "model.add(Conv2D(64, (5, 5), activation='relu'))\n",
    "model.add(BatchNormalization())\n",
    "model.add(MaxPooling2D(pool_size=(3, 3)))\n",
    "model.add(Dropout(0.25))\n",
    "model.add(Flatten())\n",
    "model.add(Dense(256, activation='relu'))\n",
    "model.add(Dropout(0.5))\n",
    "model.add(Dense(256, activation='relu'))\n",
    "model.add(Dropout(0.5))\n",
    "model.add(Dense(num_classes, activation='softmax'))\n",
    "model.compile(loss=keras.losses.categorical_crossentropy, optimizer=keras.optimizers.Adadelta(), metrics=['accuracy'])\n",
    "\n",
    "model.fit(x_train, y_train, batch_size=batch_size, epochs=epochs, verbose=1, validation_split=0.1)\n",
    "score = model.evaluate(x_test, y_test, verbose=1)\n",
    "print('Test loss:', score[0])\n",
    "print('Test accuracy:', score[1])"
   ]
  },
  {
   "cell_type": "markdown",
   "metadata": {},
   "source": [
    "# Extra Credit 2: Fix the bug for the Keras MNIST sample code"
   ]
  },
  {
   "cell_type": "markdown",
   "metadata": {},
   "source": [
    "### Please check another .ipynb file in our folder named \"Extra_Credit_2_tc2777_TaeYoungChoi_aj2771_AakankshaJoshi_xg2225_XiaohuiGuo_groupProject.ipynb\""
   ]
  },
  {
   "cell_type": "code",
   "execution_count": null,
   "metadata": {
    "collapsed": true
   },
   "outputs": [],
   "source": []
  }
 ],
 "metadata": {
  "kernelspec": {
   "display_name": "Python 2",
   "language": "python",
   "name": "python2"
  },
  "language_info": {
   "codemirror_mode": {
    "name": "ipython",
    "version": 2
   },
   "file_extension": ".py",
   "mimetype": "text/x-python",
   "name": "python",
   "nbconvert_exporter": "python",
   "pygments_lexer": "ipython2",
   "version": "2.7.12"
  }
 },
 "nbformat": 4,
 "nbformat_minor": 1
}
